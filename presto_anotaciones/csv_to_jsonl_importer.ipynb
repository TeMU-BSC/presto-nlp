{
 "cells": [
  {
   "cell_type": "code",
   "execution_count": null,
   "id": "f5044388",
   "metadata": {},
   "outputs": [],
   "source": [
    "# No sirve - Fue la referencia de la que partimos para sacar el que sí funciona\n",
    "\n",
    "# import pandas\n",
    "# df = pandas.read_csv(\"/home/maria/bsc-projects/Presto-anotaciones/\", header=None)\n",
    "\n",
    "# file_to_write = \"prueba.jsonl\"\n",
    "# for index in df.index:\n",
    "#     df.loc[index].to_json(\"row{}.json\".format(index))\n",
    "#     with open(\"row{}.json\".format(index)) as file_handle:\n",
    "#         file_content = file_handle.read()\n",
    "#         file_to_write += file_content + \"\\n\"\n",
    "        \n",
    "# with open(\"result.jsonl\",\"w\") as file_handle:\n",
    "#     file_handle.write(file_to_write)\n",
    "    "
   ]
  },
  {
   "cell_type": "code",
   "execution_count": 3,
   "id": "c3aec715",
   "metadata": {},
   "outputs": [
    {
     "name": "stderr",
     "output_type": "stream",
     "text": [
      "100%|█████████████████████████████████████████████████████████████████████████████████████████████| 1516/1516 [00:00<00:00, 14713.25it/s]\n"
     ]
    }
   ],
   "source": [
    "\n",
    "import pandas\n",
    "from tqdm import tqdm  \n",
    "import csv\n",
    "\n",
    "df = pandas.read_csv(\"/home/maria/bsc-projects/Presto-anotaciones/datos.csv\", header=0)\n",
    "data = [] \n",
    "identificador = 1\n",
    "line_pattern = \"{{\\\"id\\\": \\\"{identificador}\\\", \\\"text\\\": \\\"{text_content}\\\"}}\"  # Patrón de los json a rellenar (Como se ve en el comentario de la línea superior)\n",
    "\n",
    "# Parse pandas info (from csv)\n",
    "for index in tqdm(df.index):\n",
    "    row = df.loc[index]  \n",
    "    try:\n",
    "        n = int(row[\"Nº\"]) \n",
    "    except:\n",
    "        continue\n",
    "    if n in range(1, 21):\n",
    "        columns = {\n",
    "            \"Texto con distorsión cognitiva\": \"d\",\n",
    "            \"Pensamiento alternativo\": \"da\",\n",
    "            \"Construcciones tricky\": \"t\"\n",
    "        }\n",
    "        for column, letter in columns.items():\n",
    "            text_content = row[column]\n",
    "            line = line_pattern.format(\n",
    "                identificador=\"{numero}{letra}\".format(numero=identificador, letra=letter),\n",
    "                text_content=text_content\n",
    "            )  \n",
    "            data.append(line)  \n",
    "        identificador += 1 \n",
    "\n",
    "with open(\"/home/maria/bsc-projects/Presto-anotaciones/datos-jsonl.jsonl\", \"a\") as file:\n",
    "    content = \"\\n\".join(data) \n",
    "    file.write(content)\n"
   ]
  },
  {
   "cell_type": "code",
   "execution_count": null,
   "id": "5a04f592",
   "metadata": {},
   "outputs": [],
   "source": []
  },
  {
   "cell_type": "code",
   "execution_count": null,
   "id": "52d66316",
   "metadata": {},
   "outputs": [],
   "source": []
  },
  {
   "cell_type": "code",
   "execution_count": null,
   "id": "87b841cf",
   "metadata": {},
   "outputs": [],
   "source": []
  }
 ],
 "metadata": {
  "kernelspec": {
   "display_name": "Python 3 (ipykernel)",
   "language": "python",
   "name": "python3"
  },
  "language_info": {
   "codemirror_mode": {
    "name": "ipython",
    "version": 3
   },
   "file_extension": ".py",
   "mimetype": "text/x-python",
   "name": "python",
   "nbconvert_exporter": "python",
   "pygments_lexer": "ipython3",
   "version": "3.8.12"
  }
 },
 "nbformat": 4,
 "nbformat_minor": 5
}
