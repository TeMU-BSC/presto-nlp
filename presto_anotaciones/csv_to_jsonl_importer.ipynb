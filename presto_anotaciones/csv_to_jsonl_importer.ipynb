{
 "cells": [
  {
   "cell_type": "code",
   "execution_count": 1,
   "id": "f5044388",
   "metadata": {},
   "outputs": [],
   "source": [
    "# No sirve - Fue la referencia de la que partimos para sacar el que sí funciona\n",
    "\n",
    "# import pandas\n",
    "# df = pandas.read_csv(\"/home/maria/bsc-projects/Presto-anotaciones/\", header=None)\n",
    "\n",
    "# file_to_write = \"prueba.jsonl\"\n",
    "# for index in df.index:\n",
    "#     df.loc[index].to_json(\"row{}.json\".format(index))\n",
    "#     with open(\"row{}.json\".format(index)) as file_handle:\n",
    "#         file_content = file_handle.read()\n",
    "#         file_to_write += file_content + \"\\n\"\n",
    "        \n",
    "# with open(\"result.jsonl\",\"w\") as file_handle:\n",
    "#     file_handle.write(file_to_write)\n",
    "    "
   ]
  },
  {
   "cell_type": "code",
   "execution_count": 4,
   "id": "c3aec715",
   "metadata": {},
   "outputs": [
    {
     "name": "stderr",
     "output_type": "stream",
     "text": [
      "100%|██████████████████████████████████████████████████████████████████████████████████████████████████████████████████████████████████████████████████████████████████| 1517/1517 [00:00<00:00, 14084.69it/s]\n"
     ]
    },
    {
     "ename": "FileNotFoundError",
     "evalue": "[Errno 2] No such file or directory: '/home/maria/bsc-projects/Presto-anotaciones/datos-jsonl.jsonl'",
     "output_type": "error",
     "traceback": [
      "\u001b[0;31m---------------------------------------------------------------------------\u001b[0m",
      "\u001b[0;31mFileNotFoundError\u001b[0m                         Traceback (most recent call last)",
      "Input \u001b[0;32mIn [4]\u001b[0m, in \u001b[0;36m<cell line: 32>\u001b[0;34m()\u001b[0m\n\u001b[1;32m     29\u001b[0m             data\u001b[38;5;241m.\u001b[39mappend(line)  \n\u001b[1;32m     30\u001b[0m         identificador \u001b[38;5;241m+\u001b[39m\u001b[38;5;241m=\u001b[39m \u001b[38;5;241m1\u001b[39m \n\u001b[0;32m---> 32\u001b[0m \u001b[38;5;28;01mwith\u001b[39;00m \u001b[38;5;28;43mopen\u001b[39;49m\u001b[43m(\u001b[49m\u001b[38;5;124;43m\"\u001b[39;49m\u001b[38;5;124;43m/home/maria/bsc-projects/Presto-anotaciones/datos-jsonl.jsonl\u001b[39;49m\u001b[38;5;124;43m\"\u001b[39;49m\u001b[43m,\u001b[49m\u001b[43m \u001b[49m\u001b[38;5;124;43m\"\u001b[39;49m\u001b[38;5;124;43ma\u001b[39;49m\u001b[38;5;124;43m\"\u001b[39;49m\u001b[43m)\u001b[49m \u001b[38;5;28;01mas\u001b[39;00m file:\n\u001b[1;32m     33\u001b[0m     content \u001b[38;5;241m=\u001b[39m \u001b[38;5;124m\"\u001b[39m\u001b[38;5;130;01m\\n\u001b[39;00m\u001b[38;5;124m\"\u001b[39m\u001b[38;5;241m.\u001b[39mjoin(data) \n\u001b[1;32m     34\u001b[0m     file\u001b[38;5;241m.\u001b[39mwrite(content)\n",
      "\u001b[0;31mFileNotFoundError\u001b[0m: [Errno 2] No such file or directory: '/home/maria/bsc-projects/Presto-anotaciones/datos-jsonl.jsonl'"
     ]
    }
   ],
   "source": [
    "\n",
    "import pandas\n",
    "from tqdm import tqdm  \n",
    "import csv\n",
    "\n",
    "df = pandas.read_csv(\"/home/maria/bsc-projects/presto-nlp/presto_anotaciones/datos.csv\", header=0)\n",
    "data = [] \n",
    "identificador = 1\n",
    "line_pattern = \"{{\\\"id\\\": \\\"{identificador}\\\", \\\"text\\\": \\\"{text_content}\\\"}}\"  \n",
    "\n",
    "# Parse pandas info (from csv)\n",
    "for index in tqdm(df.index):\n",
    "    row = df.loc[index]  \n",
    "    try:\n",
    "        n = int(row[\"Nº\"]) \n",
    "    except:\n",
    "        continue\n",
    "    if n in range(1, 21):\n",
    "        columns = {\n",
    "            \"Texto con distorsión cognitiva\": \"d\",\n",
    "            \"Pensamiento alternativo\": \"da\",\n",
    "            \"Construcciones tricky\": \"t\"\n",
    "        }\n",
    "        for column, letter in columns.items():\n",
    "            text_content = row[column]\n",
    "            line = line_pattern.format(\n",
    "                identificador=\"{numero}{letra}\".format(numero=identificador, letra=letter),\n",
    "                text_content=text_content\n",
    "            )  \n",
    "            data.append(line)  \n",
    "        identificador += 1 \n",
    "\n",
    "with open(\"/home/maria/bsc-projects/presto-nlp/presto_anotaciones/datos-jsonl.jsonl\", \"a\") as file:\n",
    "    content = \"\\n\".join(data) \n",
    "    file.write(content)\n"
   ]
  },
  {
   "cell_type": "code",
   "execution_count": null,
   "id": "5a04f592",
   "metadata": {},
   "outputs": [],
   "source": []
  },
  {
   "cell_type": "code",
   "execution_count": null,
   "id": "52d66316",
   "metadata": {},
   "outputs": [],
   "source": []
  },
  {
   "cell_type": "code",
   "execution_count": null,
   "id": "87b841cf",
   "metadata": {},
   "outputs": [],
   "source": []
  }
 ],
 "metadata": {
  "kernelspec": {
   "display_name": "Python 3 (ipykernel)",
   "language": "python",
   "name": "python3"
  },
  "language_info": {
   "codemirror_mode": {
    "name": "ipython",
    "version": 3
   },
   "file_extension": ".py",
   "mimetype": "text/x-python",
   "name": "python",
   "nbconvert_exporter": "python",
   "pygments_lexer": "ipython3",
   "version": "3.8.12"
  }
 },
 "nbformat": 4,
 "nbformat_minor": 5
}
